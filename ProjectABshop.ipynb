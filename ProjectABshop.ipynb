{
 "cells": [
  {
   "cell_type": "markdown",
   "id": "26957b17",
   "metadata": {},
   "source": [
    "# A/B-тест: Влияние промо-акций на продажи 🛒📈\n",
    "\n",
    "**Дата:** 2025-07-23\n",
    "\n",
    "Этот проект — квази-A/B анализ на симулированных данных о продажах 10 магазинов. Цель — оценить, влияет ли проведение промо-акций (`Promo = 1`) на объём ежедневных продаж.\n",
    "\n",
    "**Источник данных:** [Kaggle Store Sales Dataset](https://www.kaggle.com/datasets/abhishekjaiswal4896/store-sales-dataset)\n",
    "\n",
    "---\n"
   ]
  },
  {
   "cell_type": "markdown",
   "id": "1cbf871c",
   "metadata": {},
   "source": [
    "## 📥 Загрузка и подготовка данных"
   ]
  },
  {
   "cell_type": "code",
   "execution_count": null,
   "id": "0f967578",
   "metadata": {},
   "outputs": [],
   "source": [
    "import pandas as pd\n",
    "import matplotlib.pyplot as plt\n",
    "import seaborn as sns\n",
    "from scipy import stats\n",
    "\n",
    "sns.set(style='whitegrid')\n",
    "\n",
    "# Загрузка CSV\n",
    "file_path = 'store_sales.csv'\n",
    "df = pd.read_csv(file_path)\n",
    "df.rename(columns={\n",
    "    'date': 'Date',\n",
    "    'store': 'Store_ID',\n",
    "    'sales': 'Sales',\n",
    "    'promo': 'Promo',\n",
    "    'holiday': 'Holiday'\n",
    "}, inplace=True)\n",
    "df['Date'] = pd.to_datetime(df['Date'])\n",
    "df.head()"
   ]
  },
  {
   "cell_type": "markdown",
   "id": "bc710034",
   "metadata": {},
   "source": [
    "## 📊 Разведочный анализ (все магазины и дни)"
   ]
  },
  {
   "cell_type": "code",
   "execution_count": null,
   "id": "15694a0d",
   "metadata": {},
   "outputs": [],
   "source": [
    "# Сводная статистика\n",
    "summary_all = df.groupby('Promo')['Sales'].agg(['mean', 'median', 'count']).reset_index()\n",
    "display(summary_all)"
   ]
  },
  {
   "cell_type": "code",
   "execution_count": null,
   "id": "c2cf371e",
   "metadata": {},
   "outputs": [],
   "source": [
    "# Гистограмма\n",
    "plt.figure(figsize=(10, 5))\n",
    "sns.histplot(data=df, x='Sales', hue='Promo', bins=50, kde=True, palette='Set1')\n",
    "plt.title('Распределение продаж по группам Promo')\n",
    "plt.xlabel('Сумма продаж')\n",
    "plt.ylabel('Количество дней')\n",
    "plt.show()"
   ]
  },
  {
   "cell_type": "code",
   "execution_count": null,
   "id": "a2034e84",
   "metadata": {},
   "outputs": [],
   "source": [
    "# Boxplot\n",
    "plt.figure(figsize=(8, 5))\n",
    "sns.boxplot(data=df, x='Promo', y='Sales', palette='Set2')\n",
    "plt.title('Boxplot продаж по Promo (все магазины)')\n",
    "plt.xlabel('Promo')\n",
    "plt.ylabel('Sales')\n",
    "plt.show()"
   ]
  },
  {
   "cell_type": "code",
   "execution_count": null,
   "id": "6f1cc45f",
   "metadata": {},
   "outputs": [],
   "source": [
    "# Time series\n",
    "plt.figure(figsize=(12, 5))\n",
    "sns.lineplot(data=df, x='Date', y='Sales', hue='Promo', palette='Set1')\n",
    "plt.title('Динамика продаж по Promo (все магазины)')\n",
    "plt.xlabel('Дата')\n",
    "plt.ylabel('Продажи')\n",
    "plt.show()"
   ]
  },
  {
   "cell_type": "markdown",
   "id": "0431332c",
   "metadata": {},
   "source": [
    "## 🧪 A/B-тест по всем магазинам"
   ]
  },
  {
   "cell_type": "code",
   "execution_count": null,
   "id": "769fba79",
   "metadata": {},
   "outputs": [],
   "source": [
    "sales_with = df[df['Promo'] == 1]['Sales']\n",
    "sales_without = df[df['Promo'] == 0]['Sales']\n",
    "\n",
    "# Welch t-test\n",
    "t_stat, p_val = stats.ttest_ind(sales_with, sales_without, equal_var=False)\n",
    "diff = sales_with.mean() - sales_without.mean()\n",
    "\n",
    "print(f't-статистика: {t_stat:.2f}')\n",
    "print(f'p-value: {p_val:.2e}')\n",
    "print(f'Разница средних: {diff:.2f}')"
   ]
  },
  {
   "cell_type": "markdown",
   "id": "d1fdeaeb",
   "metadata": {},
   "source": [
    "## 📌 Проверка устойчивости: магазин 1, без праздников"
   ]
  },
  {
   "cell_type": "code",
   "execution_count": null,
   "id": "2bd88e2d",
   "metadata": {},
   "outputs": [],
   "source": [
    "# Фильтрация\n",
    "store1 = df[(df['Store_ID'] == 1) & (df['Holiday'] == 0)]\n",
    "store1.groupby('Promo')['Sales'].agg(['mean', 'median', 'count'])"
   ]
  },
  {
   "cell_type": "code",
   "execution_count": null,
   "id": "365b2145",
   "metadata": {},
   "outputs": [],
   "source": [
    "# Boxplot\n",
    "plt.figure(figsize=(8, 5))\n",
    "sns.boxplot(data=store1, x='Promo', y='Sales', palette='Set3')\n",
    "plt.title('Boxplot: Store 1 без праздников')\n",
    "plt.xlabel('Promo')\n",
    "plt.ylabel('Sales')\n",
    "plt.show()"
   ]
  },
  {
   "cell_type": "code",
   "execution_count": null,
   "id": "21f182bd",
   "metadata": {},
   "outputs": [],
   "source": [
    "# Time series\n",
    "plt.figure(figsize=(12, 5))\n",
    "sns.lineplot(data=store1, x='Date', y='Sales', hue='Promo')\n",
    "plt.title('Динамика продаж: Store 1, обычные дни')\n",
    "plt.xlabel('Дата')\n",
    "plt.ylabel('Продажи')\n",
    "plt.show()"
   ]
  },
  {
   "cell_type": "code",
   "execution_count": null,
   "id": "15965f90",
   "metadata": {},
   "outputs": [],
   "source": [
    "# Тест для Store 1\n",
    "s1_with = store1[store1['Promo'] == 1]['Sales']\n",
    "s1_without = store1[store1['Promo'] == 0]['Sales']\n",
    "t_s1, p_s1 = stats.ttest_ind(s1_with, s1_without, equal_var=False)\n",
    "diff_s1 = s1_with.mean() - s1_without.mean()\n",
    "\n",
    "print(f'Store 1 t-статистика: {t_s1:.2f}')\n",
    "print(f'p-value: {p_s1:.2e}')\n",
    "print(f'Разница средних: {diff_s1:.2f}')"
   ]
  },
  {
   "cell_type": "markdown",
   "id": "4eb8013b",
   "metadata": {},
   "source": [
    "## 📚 Методология и выводы"
   ]
  },
  {
   "cell_type": "markdown",
   "id": "8d000060",
   "metadata": {},
   "source": [
    "\n",
    "- Это **квази-A/B анализ** — нет рандомизации, мы работаем с наблюдательными данными.\n",
    "- Использован **Welch t-test**, так как группы неравные по размеру.\n",
    "- Эффект от промо устойчив как в среднем по всем магазинам, так и при анализе одного магазина без праздников.\n",
    "\n",
    "---\n",
    "\n",
    "### 💡 Рекомендации:\n",
    "\n",
    "- Использовать промо-акции как инструмент краткосрочного стимулирования продаж.\n",
    "- Уточнить эффект на разных магазинах и в разные сезоны.\n",
    "- В идеале — провести настоящий A/B-тест с рандомизацией.\n"
   ]
  },
  {
   "cell_type": "markdown",
   "id": "a1b61ca3",
   "metadata": {},
   "source": [
    "## 📊 EDA: сравнение продаж по всем магазинам"
   ]
  },
  {
   "cell_type": "markdown",
   "id": "ce8179c7",
   "metadata": {},
   "source": [
    "**Распределения похожи на нормальные, особенно в группе без промо.**"
   ]
  },
  {
   "cell_type": "markdown",
   "id": "b9555a09",
   "metadata": {},
   "source": [
    "Группа с промо имеет выше среднюю продажу."
   ]
  },
  {
   "cell_type": "markdown",
   "id": "0a904ab0",
   "metadata": {},
   "source": [
    "Размер групп сбалансирован не идеально (меньше записей с Promo = 1), но достаточно для сравнения."
   ]
  },
  {
   "cell_type": "markdown",
   "id": "6085fa06",
   "metadata": {},
   "source": [
    "### 📦 Boxplot: интерпретация"
   ]
  },
  {
   "cell_type": "markdown",
   "id": "ddc314e3",
   "metadata": {},
   "source": [
    "Группа с Promo = 1 показывает более высокую медиану."
   ]
  },
  {
   "cell_type": "markdown",
   "id": "5dfc3b89",
   "metadata": {},
   "source": [
    "Также у неё выше верхняя граница интерквартильного диапазона."
   ]
  },
  {
   "cell_type": "markdown",
   "id": "a5fdfeaa",
   "metadata": {},
   "source": [
    "Распределения довольно \"компактные\" и близки по форме, но сдвинуты вверх при Promo = 1."
   ]
  },
  {
   "cell_type": "markdown",
   "id": "20c09a26",
   "metadata": {},
   "source": [
    "Продажи в дни с промо-акцией в среднем и по медиане значимо выше, чем в дни без акций, даже без учёта магазинов и праздников."
   ]
  },
  {
   "cell_type": "markdown",
   "id": "2d37a4a2",
   "metadata": {},
   "source": [
    "### ⏱ Time Series: интерпретация"
   ]
  },
  {
   "cell_type": "markdown",
   "id": "ffd8b0ec",
   "metadata": {},
   "source": [
    "Промо-акции сопровождаются краткосрочным скачком продаж по всей сети магазинов."
   ]
  },
  {
   "cell_type": "markdown",
   "id": "3748b4a6",
   "metadata": {},
   "source": [
    "Эффект устойчив по времени и работает в различных временных отрезках."
   ]
  },
  {
   "cell_type": "markdown",
   "id": "801a5ec8",
   "metadata": {},
   "source": [
    "## 🧪 A/B-тест: по всем магазинам"
   ]
  },
  {
   "cell_type": "markdown",
   "id": "780cd131",
   "metadata": {},
   "source": [
    "**t-статистика:** 42.75"
   ]
  },
  {
   "cell_type": "markdown",
   "id": "59666ddd",
   "metadata": {},
   "source": [
    "**p-value:** 2.1e-294 (практически 0)"
   ]
  },
  {
   "cell_type": "markdown",
   "id": "78d8a751",
   "metadata": {},
   "source": [
    "**Разница средних:** +29.5 в пользу Promo = 1"
   ]
  },
  {
   "cell_type": "markdown",
   "id": "28a3cb2c",
   "metadata": {},
   "source": [
    "Мы с высокой статистической значимостью отвергаем нулевую гипотезу."
   ]
  },
  {
   "cell_type": "markdown",
   "id": "a30ef053",
   "metadata": {},
   "source": [
    "## 📌 Проверка устойчивости: магазин Store_ID = 1, без праздников"
   ]
  },
  {
   "cell_type": "markdown",
   "id": "67f97426",
   "metadata": {},
   "source": [
    "Повторно проведён EDA и t-test:"
   ]
  },
  {
   "cell_type": "markdown",
   "id": "b99eedb3",
   "metadata": {},
   "source": [
    "**Средняя продажа без промо:** 223.47"
   ]
  },
  {
   "cell_type": "markdown",
   "id": "adb61756",
   "metadata": {},
   "source": [
    "**Средняя с промо:** 251.42"
   ]
  },
  {
   "cell_type": "markdown",
   "id": "678a044c",
   "metadata": {},
   "source": [
    "**Разница:** +27.95"
   ]
  },
  {
   "cell_type": "markdown",
   "id": "a9eb3614",
   "metadata": {},
   "source": [
    "**t-статистика:** 15.82"
   ]
  },
  {
   "cell_type": "markdown",
   "id": "107abb48",
   "metadata": {},
   "source": [
    "**p-value:** 2.44e-38 — крайне значимо"
   ]
  },
  {
   "cell_type": "markdown",
   "id": "b8079be9",
   "metadata": {},
   "source": [
    "### 📦 Boxplot и Time Series: магазин 1"
   ]
  },
  {
   "cell_type": "markdown",
   "id": "4b17d948",
   "metadata": {},
   "source": [
    "Группа с промо снова показывает более высокую медиану."
   ]
  },
  {
   "cell_type": "markdown",
   "id": "38f27691",
   "metadata": {},
   "source": [
    "Выбросы не искажают общую картину."
   ]
  },
  {
   "cell_type": "markdown",
   "id": "f8af8ff6",
   "metadata": {},
   "source": [
    "Во временной динамике видно, что акции сопровождаются скачками продаж."
   ]
  },
  {
   "cell_type": "markdown",
   "id": "56cec3a9",
   "metadata": {},
   "source": [
    "## 🧠 Методология"
   ]
  },
  {
   "cell_type": "markdown",
   "id": "49e7531b",
   "metadata": {},
   "source": [
    "Данные наблюдательные — не результат настоящего A/B-теста."
   ]
  },
  {
   "cell_type": "markdown",
   "id": "cdaf16a1",
   "metadata": {},
   "source": [
    "Мы провели квазиэксперимент, используя Welch t-test для сравнения неравных групп."
   ]
  },
  {
   "cell_type": "markdown",
   "id": "4fd5eb98",
   "metadata": {},
   "source": [
    "Методика подходит для ретроспективной оценки эффекта промо-акций."
   ]
  },
  {
   "cell_type": "markdown",
   "id": "6b515dbe",
   "metadata": {},
   "source": [
    "## 💡 Рекомендации"
   ]
  },
  {
   "cell_type": "markdown",
   "id": "311f072e",
   "metadata": {},
   "source": [
    "Промо-акции статистически и визуально приводят к росту продаж."
   ]
  },
  {
   "cell_type": "markdown",
   "id": "5e224188",
   "metadata": {},
   "source": [
    "Рекомендуется использовать акции как краткосрочный инструмент стимулирования, особенно в непраздничные дни."
   ]
  },
  {
   "cell_type": "markdown",
   "id": "f107be19",
   "metadata": {},
   "source": [
    "Для более точной оценки влияния акций можно провести A/B-тестирование в реальном времени с рандомизацией."
   ]
  }
 ],
 "metadata": {},
 "nbformat": 4,
 "nbformat_minor": 5
}
